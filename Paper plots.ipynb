{
 "cells": [
  {
   "cell_type": "markdown",
   "id": "d717f3fd",
   "metadata": {},
   "source": [
    "\n",
    "\n",
    "\n",
    "Reproducing plots of paper: \n",
    "## Multiparticle Quantum Walks and Fisher Information in One-Dimensional Lattices\n",
    "https://journals.aps.org/prl/abstract/10.1103/PhysRevLett.127.100406"
   ]
  },
  {
   "cell_type": "code",
   "execution_count": 18,
   "id": "c221357f",
   "metadata": {},
   "outputs": [],
   "source": [
    "\n",
    "\n",
    "\n",
    "\n",
    "#import sys\n",
    "#import numpy as np        # this is just to print the maximum size of the matrix without truncation\n",
    "#np.set_printoptions(threshold=sys.maxsize)\n",
    "\n",
    "\n",
    "import numpy as np\n",
    "from itertools import combinations\n",
    "import matplotlib.pyplot as plt\n",
    "import math\n",
    "from scipy.linalg import expm, sinm, cosm\n",
    "%matplotlib inline\n",
    "import time\n",
    "from IPython.display import Image\n",
    "\n",
    "import copy # I will use this to use Deepcopy\n",
    "import itertools as it\n",
    "\n",
    "\n",
    "\n",
    "\n",
    "\n",
    "\n",
    "\n",
    "\n",
    "\n",
    "import numpy as np\n",
    "#%run sigma_matrix.ipynb\n",
    "from itertools import combinations \n",
    "#from tenpy.algorithms\n",
    "from tenpy.algorithms import tebd\n",
    "from tenpy.networks.mps import MPS\n",
    "from tenpy.models.fermions_hubbard import FermionicHubbardModel, FermionicHubbardChain\n",
    "from tenpy import *\n",
    "from tenpy.models.xxz_chain import XXZChain\n",
    "from tenpy.models.lattice import Site, Chain\n",
    "from tenpy.models.model import CouplingModel, NearestNeighborModel, MPOModel, CouplingMPOModel\n",
    "#from tenpy.linalg import np_conserved as npc\n",
    "from tenpy.tools.params import asConfig\n",
    "from tenpy.networks.site import SpinHalfSite  # if you want to use the predefined site\n",
    "\n",
    "from tenpy.networks.site import BosonSite,SpinHalfFermionSite,FermionSite\n",
    "__all__ = ['BoseHubbardModel', 'BoseHubbardChain', 'FermiHubbardModel', 'FermiHubbardChain',\n",
    "           'FermiHubbardModel2']\n",
    "from tenpy.algorithms.algorithm import TimeEvolutionAlgorithm\n",
    "from tenpy.linalg import np_conserved as npc\n",
    "from tenpy.algorithms.truncation import svd_theta, TruncationError\n",
    "from tenpy.linalg import random_matrix"
   ]
  },
  {
   "cell_type": "code",
   "execution_count": 30,
   "id": "0acc09ed",
   "metadata": {},
   "outputs": [],
   "source": [
    "def combine(arr, s):    # this is a function from itertools which \n",
    "    return list(combinations(arr, s)) \n",
    "L =40         # number of lattice sites\n",
    "J =1 # coupling strength \n",
    "particle_numbers =3 # number of particles\n",
    "lattice = np.arange(0,L,1) # lattice sites\n",
    "# K/2pi goes from 0 to 1\n",
    "K = 2*np.pi*lattice/(float(L))  #np.arange(0,1,0.1)\n",
    "n_Set = combine(lattice,particle_numbers)\n",
    "\n",
    "final_set = [[],[],[],[],[],[],[],[],[],[],[],[],[],[],[],[],[],[],[],[],[],[],[],[],[],[],[],[],[],[],[],[],[],[],[],[],[],[],[],[]]\n",
    "for j in range(len(lattice)):\n",
    "    for i in range(len(n_Set)):\n",
    "        n1 = n_Set[i][0]\n",
    "        n2 = n_Set[i][1]\n",
    "        n3 = n_Set[i][2]\n",
    "        if (lattice[j] == (n1+n2+n3)%L):\n",
    "            final_set[j].append(n_Set[i])\n",
    "  \n",
    "    "
   ]
  },
  {
   "cell_type": "code",
   "execution_count": 31,
   "id": "710a6835",
   "metadata": {},
   "outputs": [],
   "source": [
    "\n",
    "Eigenvalues =  [[],[],[],[],[],[],[],[],[],[],[],[],[],[],[],[],[],[],[],[],[],[],[],[],[],[],[],[],[],[],[],[],[],[],[],[],[],[],[],[]]#[[],[],[],[],[],[],[],[],[],[],[],[],[],[],[],[],[],[],[],[],[],[],[],[],[],[],[],[],[],[],[],[],[],[],[],[],[],[],[],[],[],[],[],[],[],[],[],[],[],[],[],[],[],[],[],[],[],[],[],[],[],[],[],[],[],[],[],[],[],[],[],[],[],[],[],[],[],[],[],[],[],[],[],[],[],[],[],[],[],[],[],[],[],[],[],[],[],[],[],[],[],[],[],[],[],[],[],[],[],[],[],[],[],[],[],[],[],[],[],[],[],[],[],[],[],[],[],[],[],[],[],[],[],[],[],[],[],[],[],[],[],[],[],[],[],[],[],[],[],[],[],[],[],[],[],[],[],[],[],[],[],[],[],[],[],[],[],[],[],[],[],[],[],[],[],[],[],[],[],[],[],[],[],[],[],[],[],[],[],[],[],[],[],[],[],[],[],[],[],[],[],[],[],[],[],[],[],[],[],[],[],[],[],[],[],[],[],[],[],[],[],[],[],[],[],[],[],[],[],[],[],[],[],[],[],[],[],[],[],[],[],[],[],[],[],[],[],[],[],[],[],[],[],[],[],[],[],[],[],[],[],[],[],[],[],[],[],[],[],[],[],[],[],[],[],[],[],[],[],[],[],[],[],[],[],[],[],[],[],[],[],[],[],[],[],[],[],[],[],[],[],[],[],[],[],[],[],[],[],[],[],[],[],[],[],[],[],[],[],[],[],[],[],[],[],[],[],[],[],[],[],[],[],[],[],[],[],[],[],[],[],[],[],[],[],[],[],[],[],[],[],[],[],[],[],[],[],[],[],[],[],[],[],[],[],[],[],[],[],[],[],[],[],[],[],[],[],[],[],[],[],[],[],[],[],[],[],[],[],[],[],[],[],[],[],[],[],[],[],[],[],[],[],[],[],[],[],[],[],[],[],[],[],[],[],[],[],[],[],[],[],[],[],[],[],[],[],[],[],[],[],[],[],[],[],[],[],[],[],[],[],[],[],[],[],[],[],[],[],[],[],[],[],[],[],[],[],[],[],[],[],[],[],[],[],[],[],[],[],[],[],[],[],[],[],[],[],[],[],[],[],[],[],[],[],[],[],[],[],[],[],[],[],[],[],[],[],[],[],[]]\n",
    "for j in range(len(lattice)):\n",
    "    for i in range(len(final_set[j])):\n",
    "        sums =0\n",
    "        n1 =final_set[j][i][0]  # k1\n",
    "        n2 =final_set[j][i][1] \n",
    "        n3 = final_set[j][i][2]\n",
    "        k1_a = n1*2*np.pi/(L)\n",
    "        k2_a = n2*2*np.pi/(L)\n",
    "        k3_a = n3*2*np.pi/(L)\n",
    "        #r = (e1 + e2 +e3)*np.cos(e1 + e2 +e3)\n",
    "        E_n = -2*J*(np.cos(k1_a) + np.cos(k2_a) +np.cos(k3_a))\n",
    "        Eigenvalues[j].append(E_n)\n",
    "          \n",
    "#Eigenvalues"
   ]
  },
  {
   "cell_type": "code",
   "execution_count": 32,
   "id": "9d1cab72",
   "metadata": {},
   "outputs": [
    {
     "data": {
      "text/plain": [
       "Text(0.5, 1.0, 'Energy Spectra of fermions for V = -1')"
      ]
     },
     "execution_count": 32,
     "metadata": {},
     "output_type": "execute_result"
    },
    {
     "data": {
      "image/png": "[encoded data removed]",
      "text/plain": [
       "<Figure size 432x288 with 1 Axes>"
      ]
     },
     "metadata": {
      "needs_background": "light"
     },
     "output_type": "display_data"
    }
   ],
   "source": [
    "    \n",
    "for i in range(int(len(lattice))):\n",
    "    plt.plot([K[i]/(2*np.pi)]*len(Eigenvalues[i]),Eigenvalues[i],'-',color ='blue')    \n",
    "plt.xlabel('$K/2\\pi$',fontsize=20)\n",
    "plt.ylabel('E',fontsize=20)\n",
    "plt.title(\"Energy Spectra of fermions for V = -1\")"
   ]
  },
  {
   "cell_type": "markdown",
   "id": "219e35cb",
   "metadata": {},
   "source": [
    "## Plots 1(c)"
   ]
  },
  {
   "cell_type": "code",
   "execution_count": 5,
   "id": "9526d62f",
   "metadata": {},
   "outputs": [
    {
     "data": {
      "text/plain": [
       "Text(0.5, 1.0, 'Energy Spectra of fermions for various v values')"
      ]
     },
     "execution_count": 5,
     "metadata": {},
     "output_type": "execute_result"
    },
    {
     "data": {
      "image/png": "[encoded data removed]",
      "text/plain": [
       "<Figure size 432x288 with 1 Axes>"
      ]
     },
     "metadata": {
      "needs_background": "light"
     },
     "output_type": "display_data"
    }
   ],
   "source": [
    "def spectr2(J,V,K):  \n",
    "    return -2*np.cos(K)*((J**3)/V**2)\n",
    "V = [-4,-4.5,-5,-6,-8,-10,-12,-15]\n",
    "k = np.arange(0,2*np.pi,0.05)\n",
    "spectro= []\n",
    "J=1\n",
    "for j in range(len(V)):\n",
    "    for i in range(len(k)):\n",
    "        spectro.append(spectr2(J,V[j],k[i]))\n",
    "plt.plot(k/2*np.pi,spectro[0:len(k)], label = 'V = -4')\n",
    "plt.plot(k/2*np.pi,spectro[len(k):2*len(k)],label = 'V = -4.5')\n",
    "plt.plot(k/2*np.pi,spectro[2*len(k):3*len(k)],label = 'V = -5')\n",
    "plt.plot(k/2*np.pi,spectro[3*len(k):4*len(k)],label = 'V = -6')\n",
    "plt.plot(k/2*np.pi,spectro[4*len(k):5*len(k)],label = 'V = -8')\n",
    "\n",
    "\n",
    "plt.plot(k/2*np.pi,spectro[5*len(k):6*len(k)],label = 'V = -10')\n",
    "plt.plot(k/2*np.pi,spectro[6*len(k):7*len(k)],label = 'V = -12')\n",
    "plt.plot(k/2*np.pi,spectro[7*len(k):8*len(k)],label = 'V = -15')\n",
    "plt.legend(bbox_to_anchor=(1.3,0.7))\n",
    "plt.xlabel('$K/2\\pi$',fontsize=20)\n",
    "plt.ylabel('E',fontsize=20)\n",
    "plt.grid()\n",
    "plt.title(\"Energy Spectra of fermions for various v values\")"
   ]
  },
  {
   "cell_type": "markdown",
   "id": "4ef422bb",
   "metadata": {},
   "source": [
    "## TEBD"
   ]
  },
  {
   "cell_type": "code",
   "execution_count": null,
   "id": "4a3e67c3",
   "metadata": {},
   "outputs": [],
   "source": [
    "ket_0 =  np.array([[1],[0]],dtype = 'complex')\n",
    "ket_1 =  np.array([[0],[1]],dtype = 'complex')\n",
    "C_dagger = np.array([[0,0],[1,0]],dtype = 'complex')\n",
    "C = np.array([[0,1],[0,0]],dtype = 'complex')"
   ]
  },
  {
   "cell_type": "code",
   "execution_count": null,
   "id": "70cc787b",
   "metadata": {},
   "outputs": [],
   "source": []
  },
  {
   "cell_type": "code",
   "execution_count": null,
   "id": "79db858f",
   "metadata": {},
   "outputs": [],
   "source": []
  },
  {
   "cell_type": "code",
   "execution_count": 33,
   "id": "94ea7934",
   "metadata": {},
   "outputs": [],
   "source": [
    "import numpy as np\n",
    "#%run sigma_matrix.ipynb\n",
    "#from tenpy.algorithms\n",
    "from scipy.linalg import expm\n",
    "from tenpy.algorithms import tebd\n",
    "from tenpy.networks.mps import MPS\n",
    "from tenpy.models.fermions_hubbard import FermionicHubbardModel, FermionicHubbardChain\n",
    "from tenpy import *\n",
    "from tenpy.models.lattice import Site, Chain\n",
    "from tenpy.models.model import CouplingModel, NearestNeighborModel, MPOModel, CouplingMPOModel\n",
    "#from tenpy.linalg import np_conserved as npc\n",
    "from tenpy.tools.params import asConfig\n",
    "from tenpy.networks.site import SpinHalfSite  # if you want to use the predefined site\n",
    "\n",
    "from tenpy.networks.site import BosonSite#SpinHalfFermionSite,FermionSite\n",
    "__all__ = ['BoseHubbardModel', 'BoseHubbardChain', 'FermiHubbardModel', 'FermiHubbardChain',\n",
    "           'FermiHubbardModel2']\n",
    "from tenpy.algorithms.algorithm import TimeEvolutionAlgorithm\n",
    "from tenpy.linalg import np_conserved as npc\n",
    "from tenpy.algorithms.truncation import svd_theta, TruncationError\n",
    "from tenpy.linalg import random_matrix"
   ]
  },
  {
   "cell_type": "code",
   "execution_count": 40,
   "id": "936da1dc",
   "metadata": {},
   "outputs": [],
   "source": [
    "class SpinHalfSite(Site): # copied from tenpy github\n",
    "    def __init__(self, conserve='Sz'):\n",
    "        if not conserve:\n",
    "            conserve = 'None'\n",
    "        if conserve not in ['Sz', 'parity', 'None']:\n",
    "            raise ValueError(\"invalid `conserve`: \" + repr(conserve))\n",
    "        Sx = [[0., 0.5], [0.5, 0.]]\n",
    "        Sy = [[0., -0.5j], [+0.5j, 0.]]\n",
    "        Sz = [[0.5, 0.], [0., -0.5]]\n",
    "        Sp = [[0., 1.], [0., 0.]]  # == Sx + i Sy\n",
    "        Sm = [[0., 0.], [1., 0.]]  # == Sx - i Sy\n",
    "        first = [[1,0],[0,0]]\n",
    "        second =[[0,0],[0,1]]\n",
    "        C_dagger = np.array([[0,0],[1,0]],dtype = 'complex')\n",
    "        C = np.array([[0,1],[0,0]],dtype = 'complex')\n",
    "        Y_mat = np.array([[0,-1],[1,0]],dtype = 'complex')\n",
    "        ops = dict(Sp=Sp, Sm=Sm, Sz=Sz,Y_mat = Y_mat,first=first, second =second,C=C ,C_dagger=C_dagger)\n",
    "        if conserve == 'Sz':\n",
    "            chinfo = npc.ChargeInfo([1], ['2*Sz'])\n",
    "            leg = npc.LegCharge.from_qflat(chinfo, [1, -1])\n",
    "        else:\n",
    "            ops.update(Sx=Sx, Sy=Sy)\n",
    "            if conserve == 'parity':\n",
    "                chinfo = npc.ChargeInfo([2], ['parity_Sz'])\n",
    "                leg = npc.LegCharge.from_qflat(chinfo, [1, 0])  # ([1, -1] would need ``qmod=[4]``)\n",
    "            else:\n",
    "                leg = npc.LegCharge.from_trivial(2)\n",
    "        self.conserve = conserve\n",
    "        # Specify Hermitian conjugates\n",
    "        Site.__init__(self, leg, ['up', 'down'], **ops)\n",
    "        # further alias for state labels\n",
    "        self.state_labels['-0.5'] = self.state_labels['down']\n",
    "        self.state_labels['0.5'] = self.state_labels['up']\n",
    "        # Add Pauli matrices\n",
    "        if conserve != 'Sz':\n",
    "            self.add_op('Sigmax', 2. * self.Sx)\n",
    "            self.add_op('Sigmay', 2. * self.Sy)\n",
    "        self.add_op('Sigmaz', 2. * self.Sz)\n",
    "\n",
    "    def __repr__(self):\n",
    "        \"\"\"Debug representation of self.\"\"\"\n",
    "        return \"SpinHalfSite({c!r})\".format(c=self.conserve)\n",
    "    \n",
    "    \n",
    "    \n",
    "    \n",
    "    \n",
    "    \n",
    "    \n",
    "class My_model1(CouplingMPOModel, NearestNeighborModel):\n",
    "    \"\"\"Another implementation of the Spin-1/2 XXZ chain with Sz conservation.\n",
    "    This implementation takes the same parameters as the :class:`XXZChain`, but is implemented\n",
    "    based on the :class:`~tenpy.models.model.CouplingMPOModel`.\n",
    "    Parameters\n",
    "    ----------\n",
    "    model_params : dict | :class:`~tenpy.tools.params.Config`\n",
    "        See :cfg:config:`XXZChain`\n",
    "    \"\"\"\n",
    "    default_lattice = \"Chain\"\n",
    "    force_default_lattice = True\n",
    "\n",
    "    def init_sites(self, model_params):\n",
    "        #return SpinHalfSite(conserve='Sz')  # use predefined Site\n",
    "        return SpinHalfSite(conserve= None)\n",
    "\n",
    "    def init_terms(self, model_params):\n",
    "        # read out parameters\n",
    "        J = model_params.get('J', 1)\n",
    "    \n",
    "        for u1, u2, dx in self.lat.pairs['nearest_neighbors']:\n",
    "            self.add_coupling(J, u1, 'Sx', u2, 'Sx', dx) # add terms\n",
    "            self.add_coupling(J, u1, 'Sy', u2, 'Sy', dx) # add terms\n",
    "        \n",
    "        \n",
    "        for u in range(len(self.lat.unit_cell)):\n",
    "            self.add_onsite(J, u, 'Y_mat')\n",
    "           \n"
   ]
  },
  {
   "cell_type": "code",
   "execution_count": 45,
   "id": "afd1953d",
   "metadata": {},
   "outputs": [
    {
     "data": {
      "text/plain": [
       "array([[0.+0.j, 1.+0.j],\n",
       "       [0.+0.j, 1.+0.j],\n",
       "       [0.+0.j, 1.+0.j],\n",
       "       [0.+0.j, 1.+0.j],\n",
       "       [0.+0.j, 1.+0.j],\n",
       "       [0.+0.j, 1.+0.j],\n",
       "       [0.+0.j, 1.+0.j],\n",
       "       [0.+0.j, 1.+0.j],\n",
       "       [0.+0.j, 1.+0.j],\n",
       "       [0.+0.j, 1.+0.j]])"
      ]
     },
     "execution_count": 45,
     "metadata": {},
     "output_type": "execute_result"
    }
   ],
   "source": [
    "state = np.array([[0,1]]*10,dtype = 'complex')\n",
    "state   "
   ]
  },
  {
   "cell_type": "code",
   "execution_count": 88,
   "id": "2aa61d60",
   "metadata": {},
   "outputs": [],
   "source": [
    "# TENPY\n",
    "def Test_model(L,times,J,i):   \n",
    "    idd1 = np.identity(2) \n",
    "    idd2 = np.identity(4) \n",
    "    matrix = []\n",
    "      \n",
    "    model_params = {'J' : J,\n",
    "        'L': L, 'cons_N':None,'cons_Sz':None,\n",
    "        'bc_MPS': 'finite'\n",
    "    }\n",
    "    \n",
    "    \n",
    "    \n",
    "    M = My_model1(model_params)\n",
    "    state = np.array([[1,0]]*L,dtype = 'complex')\n",
    "    state[3] = [0,1]\n",
    "    state[2] = [0,1]\n",
    "   # state = np.array([[0,1],[0,1],[1,0],dtype = 'complex') \n",
    "    psi = MPS.from_product_state(M.lat.mps_sites(),state,dtype='complex')  \n",
    "   \n",
    "    \n",
    "    \n",
    " \n",
    "\n",
    "   \n",
    "    tebd_params = {\n",
    "        'N_steps': 1,       # Number of time steps dt to evolve. (The Trotter decompositions of order > \n",
    "                              # 1 are slightly more efficient if more than one step is performed at once.)\n",
    "        'dt': 0.05,        \n",
    "        'order': 4,                                          # Order of the algorithm.\n",
    "                                                                #The total error scales as O(t, dt^order).\n",
    "        'trunc_params': {'chi_max': 400, 'svd_min': 1.e-12}         #  chi_min- Keep at least chi_min Schmidt values.\n",
    "        # chi_max-  Keep at most chi_max Schmidt values.  , # svd_min - Discard all small Schmidt values S[i] < svd_min.\n",
    "\n",
    "    }\n",
    "   \n",
    "    eng = tebd.Engine(psi, M, tebd_params)\n",
    "    # considering the subsystem A atom at site 3 \n",
    "    \n",
    "    def measurement(eng, data):\n",
    "        keys = ['t','expec' ,'a','b']\n",
    "        if data is None:\n",
    "            data = dict([(k, []) for k in keys])\n",
    "            \n",
    "        data['t'].append(eng.evolved_time)\n",
    "        #data['a'].append(eng.psi.expectation_value('first',i))\n",
    "        #data['b'].append(eng.psi.expectation_value('second',i))\n",
    "        data['expec'].append(eng.psi.expectation_value_term([('C_dagger', i), ('C', i)]))\n",
    "  \n",
    "\n",
    "        return data\n",
    "\n",
    "\n",
    "    data = measurement(eng, None)\n",
    "\n",
    "    while eng.evolved_time < times:\n",
    "        eng.run()                                 # (Real-)time evolution with TEBD (time evolving block decimation).\n",
    "        measurement(eng, data)\n",
    "\n",
    " \n",
    "    return data['t'],data['expec']"
   ]
  },
  {
   "cell_type": "code",
   "execution_count": 89,
   "id": "6b4b3a6b",
   "metadata": {},
   "outputs": [
    {
     "name": "stderr",
     "output_type": "stream",
     "text": [
      "C:\\Users\\Aditya Prakash\\Python39\\lib\\site-packages\\tenpy\\tools\\params.py:233: UserWarning: unused options for config My_model1:\n",
      "['cons_N', 'cons_Sz']\n",
      "  warnings.warn(msg.format(keys=sorted(unused), name=self.name))\n",
      "C:\\Users\\ADITYA~1\\AppData\\Local\\Temp/ipykernel_17464/1881360796.py:37: FutureWarning: Renamed `Engine` class to `TEBDEngine`.\n",
      "  eng = tebd.Engine(psi, M, tebd_params)\n"
     ]
    }
   ],
   "source": [
    "densi = Test_model(L=40,times=2,J=1,i=0)"
   ]
  },
  {
   "cell_type": "code",
   "execution_count": 90,
   "id": "40e1368a",
   "metadata": {},
   "outputs": [
    {
     "data": {
      "text/plain": [
       "40"
      ]
     },
     "execution_count": 90,
     "metadata": {},
     "output_type": "execute_result"
    }
   ],
   "source": [
    "len(densi[1][0:40])"
   ]
  },
  {
   "cell_type": "code",
   "execution_count": 91,
   "id": "d663b5a0",
   "metadata": {},
   "outputs": [],
   "source": [
    "V =np.array(densi[1][0:40]).reshape(5,8)"
   ]
  },
  {
   "cell_type": "code",
   "execution_count": 92,
   "id": "6aba8fa0",
   "metadata": {},
   "outputs": [
    {
     "data": {
      "image/png": "[encoded data removed]",
      "text/plain": [
       "<Figure size 432x360 with 2 Axes>"
      ]
     },
     "metadata": {
      "needs_background": "light"
     },
     "output_type": "display_data"
    }
   ],
   "source": [
    "# DENSITY PLOT CODE\n",
    "fig = plt.figure(figsize=(6,5))\n",
    "left, bottom, width, height = 0.1, 0.1, 0.8, 0.8\n",
    "ax = fig.add_axes([left, bottom, width, height]) \n",
    "#p2 = np.arange(0,3 \n",
    "X, Y = np.meshgrid(densi[0][0:8],[1,2,3,4,5])\n",
    "cp = plt.contourf(X, Y, V,cmap=plt.get_cmap('gnuplot2'))\n",
    "cs =plt.colorbar(cp)\n",
    "\n",
    "ax.set_title('Contour Plot at time avg $\\pi$ to $2\\pi$, intial state = |1,3>, delta =1')\n",
    "ax.set_xlabel('$\\Gamma$')\n",
    "ax.set_ylabel('Position of second atom')\n",
    "cs.set_label('FIDELITY',rotation = 360)\n",
    "plt.savefig('plots1.pdf', bbox_inches='tight')\n",
    "plt.show()"
   ]
  },
  {
   "cell_type": "code",
   "execution_count": 53,
   "id": "656a0c1c",
   "metadata": {},
   "outputs": [],
   "source": [
    "p2 = np.arange(0,30,1) "
   ]
  },
  {
   "cell_type": "code",
   "execution_count": null,
   "id": "50888bf3",
   "metadata": {},
   "outputs": [],
   "source": []
  },
  {
   "cell_type": "code",
   "execution_count": null,
   "id": "e8ebb7d2",
   "metadata": {},
   "outputs": [],
   "source": []
  },
  {
   "cell_type": "code",
   "execution_count": null,
   "id": "de7825a5",
   "metadata": {},
   "outputs": [],
   "source": [
    "test = []\n",
    "for i in range()"
   ]
  },
  {
   "cell_type": "code",
   "execution_count": 299,
   "id": "e7e64dbb",
   "metadata": {},
   "outputs": [],
   "source": [
    "def Model(J_z,J_xx,times,L,j):   \n",
    "    # i is the postiion\n",
    "   \n",
    "    \n",
    "   \n",
    "    model_params = {\n",
    "        'Jxx': J_xx    ,'Jz' : J_z , 'L' : L, 'hz' : 0,\n",
    "        'bc_MPS': 'finite'\n",
    "    }\n",
    "    \n",
    "    \n",
    "    \n",
    "    M = XXZChain(model_params)\n",
    "   \n",
    "    state = np.array([[1,0]]*int(L) ,dtype = 'complex')\n",
    "    state[int(L/2)-1] = [0,1]\n",
    "    state[int(L/2)] = [0,1]\n",
    "    state[int(L/2)+1] = [0,1]\n",
    "    psi = MPS.from_product_state(M.lat.mps_sites(),state,dtype='complex')##   \n",
    "   \n",
    "    \n",
    "    \n",
    " \n",
    "\n",
    "   \n",
    "    tebd_params = {\n",
    "        'N_steps': 1,       # Number of time steps dt to evolve. (The Trotter decompositions of order > \n",
    "                              # 1 are slightly more efficient if more than one step is performed at once.)\n",
    "        'dt': 0.01,        \n",
    "        'order': 4,                                          # Order of the algorithm.\n",
    "                                                                #The total error scales as O(t, dt^order).\n",
    "        'trunc_params': {'chi_max': 400, 'svd_min': 1.e-12}         #  chi_min- Keep at least chi_min Schmidt values.\n",
    "        # chi_max-  Keep at most chi_max Schmidt values.  , # svd_min - Discard all small Schmidt values S[i] < svd_min.\n",
    "\n",
    "    }\n",
    "    #eng = TDVPEngine(psi, M, tebd_params)\n",
    "   \n",
    "    eng = tebd.Engine(psi, M, tebd_params)\n",
    "    # considering the subsystem A atom at site 3 \n",
    "    def measurement(eng, data):\n",
    "        keys = ['t','dens_dist']\n",
    "        if data is None:\n",
    "            data = dict([(k, []) for k in keys])\n",
    "        data['t'].append(eng.evolved_time)\n",
    "        data['dens_dist'].append(eng.psi.expectation_value('JW',j))  # 'Sz',2 means its at site 3\n",
    "        \n",
    "        return data\n",
    "\n",
    "   \n",
    "    data = measurement(eng, None)\n",
    "\n",
    "    while eng.evolved_time < times:\n",
    "        #TDVPEngine.run()\n",
    "        eng.run()                                 # (Real-)time evolution with TEBD (time evolving block decimation).\n",
    "        measurement(eng, data)\n",
    "\n",
    "   \n",
    "    \n",
    "    \n",
    "    return   data['t'],data['dens_dist']"
   ]
  },
  {
   "cell_type": "code",
   "execution_count": 300,
   "id": "9270420d",
   "metadata": {},
   "outputs": [
    {
     "name": "stderr",
     "output_type": "stream",
     "text": [
      "C:\\Users\\ADITYA~1\\AppData\\Local\\Temp/ipykernel_20272/2286623471.py:38: FutureWarning: Renamed `Engine` class to `TEBDEngine`.\n",
      "  eng = tebd.Engine(psi, M, tebd_params)\n"
     ]
    },
    {
     "data": {
      "text/plain": [
       "([0.0,\n",
       "  0.01,\n",
       "  0.02,\n",
       "  0.03,\n",
       "  0.04,\n",
       "  0.05,\n",
       "  0.060000000000000005,\n",
       "  0.07,\n",
       "  0.08,\n",
       "  0.09,\n",
       "  0.09999999999999999,\n",
       "  0.10999999999999999,\n",
       "  0.11999999999999998,\n",
       "  0.12999999999999998,\n",
       "  0.13999999999999999,\n",
       "  0.15,\n",
       "  0.16,\n",
       "  0.17,\n",
       "  0.18000000000000002,\n",
       "  0.19000000000000003,\n",
       "  0.20000000000000004,\n",
       "  0.21000000000000005,\n",
       "  0.22000000000000006,\n",
       "  0.23000000000000007,\n",
       "  0.24000000000000007,\n",
       "  0.25000000000000006,\n",
       "  0.26000000000000006,\n",
       "  0.2700000000000001,\n",
       "  0.2800000000000001,\n",
       "  0.2900000000000001,\n",
       "  0.3000000000000001,\n",
       "  0.3100000000000001,\n",
       "  0.3200000000000001,\n",
       "  0.3300000000000001,\n",
       "  0.34000000000000014,\n",
       "  0.35000000000000014,\n",
       "  0.36000000000000015,\n",
       "  0.37000000000000016,\n",
       "  0.38000000000000017,\n",
       "  0.3900000000000002,\n",
       "  0.4000000000000002,\n",
       "  0.4100000000000002,\n",
       "  0.4200000000000002,\n",
       "  0.4300000000000002,\n",
       "  0.4400000000000002,\n",
       "  0.45000000000000023,\n",
       "  0.46000000000000024,\n",
       "  0.47000000000000025,\n",
       "  0.48000000000000026,\n",
       "  0.49000000000000027,\n",
       "  0.5000000000000002,\n",
       "  0.5100000000000002,\n",
       "  0.5200000000000002,\n",
       "  0.5300000000000002,\n",
       "  0.5400000000000003,\n",
       "  0.5500000000000003,\n",
       "  0.5600000000000003,\n",
       "  0.5700000000000003,\n",
       "  0.5800000000000003,\n",
       "  0.5900000000000003,\n",
       "  0.6000000000000003,\n",
       "  0.6100000000000003,\n",
       "  0.6200000000000003,\n",
       "  0.6300000000000003,\n",
       "  0.6400000000000003,\n",
       "  0.6500000000000004,\n",
       "  0.6600000000000004,\n",
       "  0.6700000000000004,\n",
       "  0.6800000000000004,\n",
       "  0.6900000000000004,\n",
       "  0.7000000000000004,\n",
       "  0.7100000000000004,\n",
       "  0.7200000000000004,\n",
       "  0.7300000000000004,\n",
       "  0.7400000000000004,\n",
       "  0.7500000000000004,\n",
       "  0.7600000000000005,\n",
       "  0.7700000000000005,\n",
       "  0.7800000000000005,\n",
       "  0.7900000000000005,\n",
       "  0.8000000000000005,\n",
       "  0.8100000000000005,\n",
       "  0.8200000000000005,\n",
       "  0.8300000000000005,\n",
       "  0.8400000000000005,\n",
       "  0.8500000000000005,\n",
       "  0.8600000000000005,\n",
       "  0.8700000000000006,\n",
       "  0.8800000000000006,\n",
       "  0.8900000000000006,\n",
       "  0.9000000000000006,\n",
       "  0.9100000000000006,\n",
       "  0.9200000000000006,\n",
       "  0.9300000000000006,\n",
       "  0.9400000000000006,\n",
       "  0.9500000000000006,\n",
       "  0.9600000000000006,\n",
       "  0.9700000000000006,\n",
       "  0.9800000000000006,\n",
       "  0.9900000000000007,\n",
       "  1.0000000000000007],\n",
       " [array([1.]),\n",
       "  array([1.]),\n",
       "  array([1.]),\n",
       "  array([1.]),\n",
       "  array([1.]),\n",
       "  array([1.]),\n",
       "  array([1.]),\n",
       "  array([1.]),\n",
       "  array([1.]),\n",
       "  array([1.]),\n",
       "  array([1.]),\n",
       "  array([1.]),\n",
       "  array([1.]),\n",
       "  array([1.]),\n",
       "  array([1.]),\n",
       "  array([1.]),\n",
       "  array([1.]),\n",
       "  array([1.]),\n",
       "  array([1.]),\n",
       "  array([1.]),\n",
       "  array([1.]),\n",
       "  array([1.]),\n",
       "  array([1.]),\n",
       "  array([1.]),\n",
       "  array([1.]),\n",
       "  array([1.]),\n",
       "  array([1.]),\n",
       "  array([1.]),\n",
       "  array([1.]),\n",
       "  array([1.]),\n",
       "  array([1.]),\n",
       "  array([1.]),\n",
       "  array([1.]),\n",
       "  array([1.]),\n",
       "  array([1.]),\n",
       "  array([1.]),\n",
       "  array([1.]),\n",
       "  array([1.]),\n",
       "  array([1.]),\n",
       "  array([1.]),\n",
       "  array([1.]),\n",
       "  array([1.]),\n",
       "  array([1.]),\n",
       "  array([1.]),\n",
       "  array([1.]),\n",
       "  array([1.]),\n",
       "  array([1.]),\n",
       "  array([1.]),\n",
       "  array([1.]),\n",
       "  array([1.]),\n",
       "  array([1.]),\n",
       "  array([1.]),\n",
       "  array([1.]),\n",
       "  array([1.]),\n",
       "  array([1.]),\n",
       "  array([1.]),\n",
       "  array([1.]),\n",
       "  array([1.]),\n",
       "  array([1.]),\n",
       "  array([1.]),\n",
       "  array([1.]),\n",
       "  array([1.]),\n",
       "  array([1.]),\n",
       "  array([1.]),\n",
       "  array([1.]),\n",
       "  array([1.]),\n",
       "  array([1.]),\n",
       "  array([1.]),\n",
       "  array([1.]),\n",
       "  array([1.]),\n",
       "  array([1.]),\n",
       "  array([1.]),\n",
       "  array([1.]),\n",
       "  array([1.]),\n",
       "  array([1.]),\n",
       "  array([1.]),\n",
       "  array([1.]),\n",
       "  array([1.]),\n",
       "  array([1.]),\n",
       "  array([1.]),\n",
       "  array([1.]),\n",
       "  array([1.]),\n",
       "  array([1.]),\n",
       "  array([1.]),\n",
       "  array([1.]),\n",
       "  array([1.]),\n",
       "  array([1.]),\n",
       "  array([1.]),\n",
       "  array([1.]),\n",
       "  array([1.]),\n",
       "  array([1.]),\n",
       "  array([1.]),\n",
       "  array([1.]),\n",
       "  array([1.]),\n",
       "  array([1.]),\n",
       "  array([1.]),\n",
       "  array([1.]),\n",
       "  array([1.]),\n",
       "  array([1.]),\n",
       "  array([1.]),\n",
       "  array([1.])])"
      ]
     },
     "execution_count": 300,
     "metadata": {},
     "output_type": "execute_result"
    }
   ],
   "source": [
    "Model(J_z=1,J_xx=1,times=1,L=5,j=1)"
   ]
  },
  {
   "cell_type": "code",
   "execution_count": 298,
   "id": "a4eb3fec",
   "metadata": {},
   "outputs": [],
   "source": [
    "ket_0 =  np.array([[1],[0]],dtype = 'complex')\n",
    "ket_1 =  np.array([[0],[1]],dtype = 'complex')\n",
    "C_dagger = np.array([[0,0],[1,0]],dtype = 'complex')\n",
    "C = np.array([[0,1],[0,0]],dtype = 'complex')"
   ]
  },
  {
   "cell_type": "markdown",
   "id": "470be292",
   "metadata": {},
   "source": [
    "## What basis to choose? How to calculate that expectation value"
   ]
  },
  {
   "cell_type": "code",
   "execution_count": 291,
   "id": "fda3bf47",
   "metadata": {},
   "outputs": [
    {
     "data": {
      "text/plain": [
       "array([[0.+0.j, 0.+0.j],\n",
       "       [0.+0.j, 1.+0.j]])"
      ]
     },
     "execution_count": 291,
     "metadata": {},
     "output_type": "execute_result"
    }
   ],
   "source": [
    "np.dot(C_dagger,C)"
   ]
  },
  {
   "cell_type": "code",
   "execution_count": null,
   "id": "d89dc2f9",
   "metadata": {},
   "outputs": [],
   "source": []
  }
 ],
 "metadata": {
  "kernelspec": {
   "display_name": "Python 3 (ipykernel)",
   "language": "python",
   "name": "python3"
  },
  "language_info": {
   "codemirror_mode": {
    "name": "ipython",
    "version": 3
   },
   "file_extension": ".py",
   "mimetype": "text/x-python",
   "name": "python",
   "nbconvert_exporter": "python",
   "pygments_lexer": "ipython3",
   "version": "3.9.6"
  }
 },
 "nbformat": 4,
 "nbformat_minor": 5
}
